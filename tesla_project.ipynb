{
 "cells": [
  {
   "cell_type": "code",
   "execution_count": 1,
   "id": "6ebcaedf-5acd-43e9-89f4-c9671c9fa887",
   "metadata": {},
   "outputs": [
    {
     "name": "stdout",
     "output_type": "stream",
     "text": [
      "                       Date      Open      High       Low     Close  \\\n",
      "0 2010-06-29 00:00:00-04:00  1.266667  1.666667  1.169333  1.592667   \n",
      "1 2010-06-30 00:00:00-04:00  1.719333  2.028000  1.553333  1.588667   \n",
      "2 2010-07-01 00:00:00-04:00  1.666667  1.728000  1.351333  1.464000   \n",
      "3 2010-07-02 00:00:00-04:00  1.533333  1.540000  1.247333  1.280000   \n",
      "4 2010-07-06 00:00:00-04:00  1.333333  1.333333  1.055333  1.074000   \n",
      "\n",
      "      Volume  Dividends  Stock Splits  \n",
      "0  281494500        0.0           0.0  \n",
      "1  257806500        0.0           0.0  \n",
      "2  123282000        0.0           0.0  \n",
      "3   77097000        0.0           0.0  \n",
      "4  103003500        0.0           0.0  \n"
     ]
    }
   ],
   "source": [
    "import yfinance as yf\n",
    "\n",
    "#percing data\n",
    "tesla = yf.Ticker(\"TSLA\")\n",
    "tesla_data = tesla.history(period=\"max\")\n",
    "\n",
    "#reset index\n",
    "tesla_data.reset_index(inplace=True)\n",
    "\n",
    "#show first 5 data\n",
    "print(tesla_data.head())\n"
   ]
  },
  {
   "cell_type": "code",
   "execution_count": 2,
   "id": "4a697761-72cd-4034-b8ea-c00674d3889c",
   "metadata": {},
   "outputs": [
    {
     "data": {
      "text/html": [
       "<div>\n",
       "<style scoped>\n",
       "    .dataframe tbody tr th:only-of-type {\n",
       "        vertical-align: middle;\n",
       "    }\n",
       "\n",
       "    .dataframe tbody tr th {\n",
       "        vertical-align: top;\n",
       "    }\n",
       "\n",
       "    .dataframe thead th {\n",
       "        text-align: right;\n",
       "    }\n",
       "</style>\n",
       "<table border=\"1\" class=\"dataframe\">\n",
       "  <thead>\n",
       "    <tr style=\"text-align: right;\">\n",
       "      <th></th>\n",
       "      <th>Date</th>\n",
       "      <th>Open</th>\n",
       "      <th>High</th>\n",
       "      <th>Low</th>\n",
       "      <th>Close</th>\n",
       "      <th>Volume</th>\n",
       "      <th>Dividends</th>\n",
       "      <th>Stock Splits</th>\n",
       "    </tr>\n",
       "  </thead>\n",
       "  <tbody>\n",
       "    <tr>\n",
       "      <th>3618</th>\n",
       "      <td>2024-11-12 00:00:00-05:00</td>\n",
       "      <td>342.739990</td>\n",
       "      <td>345.839996</td>\n",
       "      <td>323.309998</td>\n",
       "      <td>328.489990</td>\n",
       "      <td>155726000</td>\n",
       "      <td>0.0</td>\n",
       "      <td>0.0</td>\n",
       "    </tr>\n",
       "    <tr>\n",
       "      <th>3619</th>\n",
       "      <td>2024-11-13 00:00:00-05:00</td>\n",
       "      <td>335.850006</td>\n",
       "      <td>344.600006</td>\n",
       "      <td>322.500000</td>\n",
       "      <td>330.239990</td>\n",
       "      <td>125405600</td>\n",
       "      <td>0.0</td>\n",
       "      <td>0.0</td>\n",
       "    </tr>\n",
       "    <tr>\n",
       "      <th>3620</th>\n",
       "      <td>2024-11-14 00:00:00-05:00</td>\n",
       "      <td>327.690002</td>\n",
       "      <td>329.980011</td>\n",
       "      <td>310.369995</td>\n",
       "      <td>311.179993</td>\n",
       "      <td>120726100</td>\n",
       "      <td>0.0</td>\n",
       "      <td>0.0</td>\n",
       "    </tr>\n",
       "    <tr>\n",
       "      <th>3621</th>\n",
       "      <td>2024-11-15 00:00:00-05:00</td>\n",
       "      <td>310.570007</td>\n",
       "      <td>324.679993</td>\n",
       "      <td>309.220001</td>\n",
       "      <td>320.720001</td>\n",
       "      <td>114128900</td>\n",
       "      <td>0.0</td>\n",
       "      <td>0.0</td>\n",
       "    </tr>\n",
       "    <tr>\n",
       "      <th>3622</th>\n",
       "      <td>2024-11-18 00:00:00-05:00</td>\n",
       "      <td>340.720001</td>\n",
       "      <td>348.549896</td>\n",
       "      <td>330.010010</td>\n",
       "      <td>338.739990</td>\n",
       "      <td>125171659</td>\n",
       "      <td>0.0</td>\n",
       "      <td>0.0</td>\n",
       "    </tr>\n",
       "  </tbody>\n",
       "</table>\n",
       "</div>"
      ],
      "text/plain": [
       "                          Date        Open        High         Low  \\\n",
       "3618 2024-11-12 00:00:00-05:00  342.739990  345.839996  323.309998   \n",
       "3619 2024-11-13 00:00:00-05:00  335.850006  344.600006  322.500000   \n",
       "3620 2024-11-14 00:00:00-05:00  327.690002  329.980011  310.369995   \n",
       "3621 2024-11-15 00:00:00-05:00  310.570007  324.679993  309.220001   \n",
       "3622 2024-11-18 00:00:00-05:00  340.720001  348.549896  330.010010   \n",
       "\n",
       "           Close     Volume  Dividends  Stock Splits  \n",
       "3618  328.489990  155726000        0.0           0.0  \n",
       "3619  330.239990  125405600        0.0           0.0  \n",
       "3620  311.179993  120726100        0.0           0.0  \n",
       "3621  320.720001  114128900        0.0           0.0  \n",
       "3622  338.739990  125171659        0.0           0.0  "
      ]
     },
     "execution_count": 2,
     "metadata": {},
     "output_type": "execute_result"
    }
   ],
   "source": [
    "tesla_data.tail()"
   ]
  },
  {
   "cell_type": "code",
   "execution_count": null,
   "id": "014d725e-326c-44f7-8f41-9d9c0a0538b4",
   "metadata": {},
   "outputs": [],
   "source": []
  }
 ],
 "metadata": {
  "kernelspec": {
   "display_name": "Python 3 (ipykernel)",
   "language": "python",
   "name": "python3"
  },
  "language_info": {
   "codemirror_mode": {
    "name": "ipython",
    "version": 3
   },
   "file_extension": ".py",
   "mimetype": "text/x-python",
   "name": "python",
   "nbconvert_exporter": "python",
   "pygments_lexer": "ipython3",
   "version": "3.11.9"
  }
 },
 "nbformat": 4,
 "nbformat_minor": 5
}
